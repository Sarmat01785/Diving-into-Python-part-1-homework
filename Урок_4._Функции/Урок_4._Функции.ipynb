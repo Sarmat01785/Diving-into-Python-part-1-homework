{
 "cells": [
  {
   "cell_type": "markdown",
   "metadata": {},
   "source": [
    "# Урок 4. Функции"
   ]
  },
  {
   "cell_type": "markdown",
   "metadata": {},
   "source": [
    "'''\n",
    "Задача 1\n",
    "\n",
    "Напишите функцию для транспонирования матрицы\n",
    "'''"
   ]
  },
  {
   "cell_type": "code",
   "execution_count": 3,
   "metadata": {},
   "outputs": [
    {
     "name": "stdout",
     "output_type": "stream",
     "text": [
      "[1, 4, 7]\n",
      "[2, 5, 8]\n",
      "[3, 6, 9]\n"
     ]
    }
   ],
   "source": [
    "def transpose(matrix):\n",
    "    \"\"\"\n",
    "    Транспонирует данную матрицу.\n",
    "\n",
    "    Аргументы:\n",
    "    matrix (list of list of int/float): Исходная матрица.\n",
    "\n",
    "    Возвращает:\n",
    "    list of list of int/float: Транспонированная матрица.\n",
    "    \"\"\"\n",
    "    # Транспонирование матрицы с помощью вложенных списковых включений\n",
    "    # 'zip(*matrix)' объединяет элементы из каждого подсписка (строки) в кортежи по индексам\n",
    "    # Каждый кортеж содержит элементы одного столбца исходной матрицы\n",
    "    return [list(row) for row in zip(*matrix)]\n",
    "\n",
    "# Пример использования функции:\n",
    "original_matrix = [\n",
    "    [1, 2, 3],\n",
    "    [4, 5, 6],\n",
    "    [7, 8, 9]\n",
    "]\n",
    "\n",
    "# Вызов функции transpose и вывод результата\n",
    "transposed_matrix = transpose(original_matrix)\n",
    "for row in transposed_matrix:\n",
    "    print(row)"
   ]
  },
  {
   "cell_type": "markdown",
   "metadata": {},
   "source": [
    "'''\n",
    "Задача 2\n",
    "\n",
    "Напишите функцию принимающую на вход только ключевые параметры \n",
    "и возвращающую словарь, где ключ — значение переданного аргумента, а значение — имя аргумента. \n",
    "Если ключ не хешируем, используйте его строковое представление.\n",
    "'''"
   ]
  },
  {
   "cell_type": "code",
   "execution_count": 6,
   "metadata": {},
   "outputs": [
    {
     "name": "stdout",
     "output_type": "stream",
     "text": [
      "{'Alice': 'name', 25: 'age', '10000': 'salary'}\n"
     ]
    }
   ],
   "source": [
    "def args_to_dict(**kwargs):\n",
    "    \"\"\"\n",
    "    Функция принимает на вход только ключевые параметры и возвращает словарь,\n",
    "    в котором ключ — значение переданного аргумента, а значение — имя аргумента.\n",
    "    Если ключ не хешируем, используется его строковое представление.\n",
    "\n",
    "    Возвращает:\n",
    "    dict: Словарь с перевернутыми ключами и значениями параметров.\n",
    "    \"\"\"\n",
    "    result = {}\n",
    "    for key, value in kwargs.items():\n",
    "        # Проверяем, может ли значение быть ключом в словаре (хешируемо ли оно)\n",
    "        try:\n",
    "            # Пытаемся использовать значение как ключ\n",
    "            hash(value)\n",
    "        except TypeError:\n",
    "            # Если значение не хешируемо, используем его строковое представление вместо самого значения\n",
    "            value = str(value)\n",
    "        result[value] = key\n",
    "    return result\n",
    "\n",
    "# Пример использования функции:\n",
    "result_dict = args_to_dict(name=\"Alice\", age=25, salary=\"10000\")\n",
    "print(result_dict)"
   ]
  }
 ],
 "metadata": {
  "kernelspec": {
   "display_name": "Python 3 (ipykernel)",
   "language": "python",
   "name": "python3"
  },
  "language_info": {
   "codemirror_mode": {
    "name": "ipython",
    "version": 3
   },
   "file_extension": ".py",
   "mimetype": "text/x-python",
   "name": "python",
   "nbconvert_exporter": "python",
   "pygments_lexer": "ipython3",
   "version": "3.11.5"
  }
 },
 "nbformat": 4,
 "nbformat_minor": 2
}
