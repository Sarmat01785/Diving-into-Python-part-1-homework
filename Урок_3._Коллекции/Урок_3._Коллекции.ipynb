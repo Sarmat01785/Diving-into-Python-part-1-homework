{
 "cells": [
  {
   "cell_type": "markdown",
   "metadata": {},
   "source": [
    "'''\n",
    "Задача 1\n",
    "\n",
    "- Дан список повторяющихся элементов. \n",
    "\n",
    "- Вернуть список с дублирующимися элементами. \n",
    "\n",
    "- В результирующем списке не должно быть дубликатов.\n",
    "'''\n"
   ]
  },
  {
   "cell_type": "code",
   "execution_count": 2,
   "metadata": {},
   "outputs": [
    {
     "name": "stdout",
     "output_type": "stream",
     "text": [
      "lst=[1, 2, 3, 4, 5, 6, 7, 8, 9, 10, 1, 2]\n",
      "result=[1, 2]\n"
     ]
    }
   ],
   "source": [
    "# Определяем список lst с целыми числами, включая дубликаты чисел 1 и 2\n",
    "lst = [1, 2, 3, 4, 5, 6, 7, 8, 9, 10, 1, 2]\n",
    "\n",
    "# Создаем пустой список result для хранения элементов, которые дублируются в lst\n",
    "result = []\n",
    "\n",
    "# Запускаем цикл для прохождения по каждому элементу из списка lst\n",
    "for item in lst:\n",
    "    # Проверяем условие: если элемент встречается в lst более одного раза\n",
    "    # и если этот элемент еще не был добавлен в список result\n",
    "    if lst.count(item) > 1 and item not in result:\n",
    "        # Добавляем элемент в список result\n",
    "        result.append(item)\n",
    "\n",
    "# Выводим исходный список lst, используя f-строку для форматированного вывода\n",
    "print(f'{lst=}')\n",
    "# Выводим список result, который содержит элементы, встречающиеся в lst более одного раза\n",
    "print(f'{result=}')"
   ]
  },
  {
   "cell_type": "markdown",
   "metadata": {},
   "source": [
    "'''Этот код сначала определяет исходный список `lst`, который содержит целые числа с некоторыми дубликатами. Затем он инициализирует пустой список `result`, который будет использоваться для сохранения дублирующихся элементов. В цикле `for` код проверяет каждый элемент `item из lst`, используя метод `count()`, чтобы определить, встречается ли этот элемент более одного раза. Если это так, и элемент еще не содержится в result, он добавляется в `result`. В конце выводятся оба списка: исходный и с дубликатами.'''"
   ]
  },
  {
   "cell_type": "markdown",
   "metadata": {},
   "source": []
  }
 ],
 "metadata": {
  "kernelspec": {
   "display_name": "Python 3 (ipykernel)",
   "language": "python",
   "name": "python3"
  },
  "language_info": {
   "codemirror_mode": {
    "name": "ipython",
    "version": 3
   },
   "file_extension": ".py",
   "mimetype": "text/x-python",
   "name": "python",
   "nbconvert_exporter": "python",
   "pygments_lexer": "ipython3",
   "version": "3.11.5"
  }
 },
 "nbformat": 4,
 "nbformat_minor": 2
}
