{
 "cells": [
  {
   "cell_type": "markdown",
   "metadata": {},
   "source": [
    "# Урок 5. Итераторы и генераторы"
   ]
  },
  {
   "cell_type": "markdown",
   "metadata": {},
   "source": [
    "'''\n",
    "Задача 1\n",
    "\n",
    "- Напишите функцию, которая принимает на вход строку - абсолютный путь до файла. \n",
    "\n",
    "- Функция возвращает кортеж из трёх элементов: путь, имя файла, расширение файла.\n",
    "'''"
   ]
  },
  {
   "cell_type": "code",
   "execution_count": null,
   "metadata": {},
   "outputs": [],
   "source": []
  },
  {
   "cell_type": "markdown",
   "metadata": {},
   "source": [
    "'''\n",
    "Задача 2\n",
    "\n",
    "- Напишите однострочный генератор словаря, который принимает на вход три списка одинаковой длины: \n",
    "\n",
    "- Имена str, ставка int, премия str с указанием процентов вида “10.25%”. \n",
    "\n",
    "- В результате получаем словарь с именем в качестве ключа и суммой премии в качестве значения. \n",
    "\n",
    "- Сумма рассчитывается как ставка умноженная на процент премии.\n",
    "'''"
   ]
  },
  {
   "cell_type": "code",
   "execution_count": null,
   "metadata": {},
   "outputs": [],
   "source": []
  },
  {
   "cell_type": "markdown",
   "metadata": {},
   "source": [
    "\"\"\"\n",
    "Задача 3\n",
    "\n",
    "Создайте функцию генератор чисел Фибоначчи\n",
    "\"\"\""
   ]
  },
  {
   "cell_type": "code",
   "execution_count": null,
   "metadata": {},
   "outputs": [],
   "source": []
  }
 ],
 "metadata": {
  "language_info": {
   "name": "python"
  }
 },
 "nbformat": 4,
 "nbformat_minor": 2
}
